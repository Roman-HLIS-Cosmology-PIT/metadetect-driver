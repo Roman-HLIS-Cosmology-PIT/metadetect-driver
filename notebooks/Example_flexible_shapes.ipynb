{
 "cells": [
  {
   "cell_type": "code",
   "execution_count": 1,
   "id": "5c513c4a-0b96-4cc9-a611-beea52e62806",
   "metadata": {},
   "outputs": [],
   "source": [
    "import sys\n",
    "import numpy as np\n",
    "import pandas as pd\n",
    "import matplotlib.pyplot as plt\n",
    "import yaml\n",
    "import galsim\n",
    "\n",
    "from pyimcom.config import Config, Settings as Stn\n",
    "from pyimcom.coadd import Block\n",
    "from pyimcom.analysis import OutImage, Mosaic\n",
    "from concurrent.futures import ProcessPoolExecutor"
   ]
  },
  {
   "cell_type": "code",
   "execution_count": 2,
   "id": "3d692cd6-3d3f-4fdc-a425-e90eb6899fb6",
   "metadata": {},
   "outputs": [],
   "source": [
    "#sys.path.append(\"/hildafs/projects/phy200017p/berlfein/metadetect-driver/\")"
   ]
  },
  {
   "cell_type": "code",
   "execution_count": 3,
   "id": "4e2dec82-cff8-4a3e-be93-c5751e877ac6",
   "metadata": {},
   "outputs": [],
   "source": [
    "from metadetect_driver import parse_driver_cfg, MetaDetectRunner, BaseRunner"
   ]
  },
  {
   "cell_type": "code",
   "execution_count": 4,
   "id": "0632d6b4-e7cf-4257-bce7-d0a4f5135e9a",
   "metadata": {},
   "outputs": [],
   "source": [
    "## Default metadetect and driver configs\n",
    "with open('../config/metadetect_default.yaml', 'r') as file:\n",
    "    METADETECT_CONFIG= yaml.safe_load(file)\n",
    "with open('../config/driver_default.yaml', 'r') as file:\n",
    "    DEFAULT_DRIVER_CFG= yaml.safe_load(file)"
   ]
  },
  {
   "cell_type": "markdown",
   "id": "f1575b5d-f8da-4b1d-a199-1dc4bc9605a1",
   "metadata": {},
   "source": [
    "## Generate Synthetic Data"
   ]
  },
  {
   "cell_type": "markdown",
   "id": "0dde2af6-9286-4e25-b6c4-ab96f59aeec2",
   "metadata": {},
   "source": [
    "### WCS\n",
    "I am using one from the IMCOM coadds but substitute with whatever you like"
   ]
  },
  {
   "cell_type": "code",
   "execution_count": 6,
   "id": "fa80f961-505c-41b4-b37f-764300751028",
   "metadata": {},
   "outputs": [],
   "source": [
    "# Read the config file from which the Mosaic was made\n",
    "cfg = Config(cfg_file = '../IMCOM_data/configs/config_prod_H.json')\n",
    "cfg.outstem = '../IMCOM_data/images/H158/output'\n",
    "mosaic = Mosaic(cfg)\n",
    "wcs = MetaDetectRunner.get_wcs(mosaic.outimages[0][1])"
   ]
  },
  {
   "cell_type": "markdown",
   "id": "13b5a9f3-1e74-436f-b452-ec06b8c0528a",
   "metadata": {},
   "source": [
    "### Example image, psf, and other info"
   ]
  },
  {
   "cell_type": "code",
   "execution_count": 9,
   "id": "694cfb45-1a86-417a-badb-6f0b69e54f16",
   "metadata": {},
   "outputs": [],
   "source": [
    "fwhm = 0.25\n",
    "band = \"H158\"\n",
    "pix_scale = 0.1\n",
    "wcs = wcs\n",
    "psf = galsim.Gaussian(fwhm=fwhm)\n",
    "\n",
    "image = galsim.Gaussian(fwhm=1.0).drawImage(\n",
    "            nx=500,\n",
    "            ny=500,\n",
    "            scale = pix_scale,\n",
    "        ).array*1e2 + np.random.normal(0, 1e-2, (500, 500))"
   ]
  },
  {
   "cell_type": "markdown",
   "id": "df270db9-a30d-47c6-8c41-2fac775ea392",
   "metadata": {},
   "source": [
    "### Generate objects that contain image information\n",
    "These are similar in name to the PyIMCOM objects to avoid changing much of the code. The `OutImage` object contains individual images,\n",
    "while the `Mosaic` object contains a collection of images (from the same band).\n",
    "The inputs:\n",
    "\n",
    "- `image`: 2d numpy array containing your science image.\n",
    "- `psf`: GalSim object with the PSF to use\n",
    "- `wcs`: Astropy WCS object\n",
    "- `pix_scale`: The pixel scale of your image (in arcsec/pix)\n",
    "- `band`: The band name (defaults to None). If not added something might break later so just put something here for now."
   ]
  },
  {
   "cell_type": "markdown",
   "id": "69b5c2d7-a019-485c-9e9b-620bec36b12a",
   "metadata": {},
   "source": [
    "#### Single image"
   ]
  },
  {
   "cell_type": "code",
   "execution_count": 10,
   "id": "296e6f55-d5cf-4e0f-b399-e4ef6b1ea4d5",
   "metadata": {},
   "outputs": [],
   "source": [
    "## Set the \"block\" with the image\n",
    "blk = BaseRunner.OutImage(image, psf, wcs, pix_scale, band)"
   ]
  },
  {
   "cell_type": "code",
   "execution_count": 11,
   "id": "f392aab8-abec-42dd-962c-5e5bfe11f33f",
   "metadata": {},
   "outputs": [],
   "source": [
    "# intialize the runner\n",
    "bs_runner = BaseRunner.MetaDetectRunner(blk, meta_cfg = METADETECT_CONFIG, driver_cfg = DEFAULT_DRIVER_CFG)"
   ]
  },
  {
   "cell_type": "code",
   "execution_count": 12,
   "id": "e9645f37-04f4-4ad7-8e1b-db12e0b32974",
   "metadata": {},
   "outputs": [],
   "source": [
    "# make catalog\n",
    "res = bs_runner.make_catalog(save = False, save_blocks = False)"
   ]
  },
  {
   "cell_type": "markdown",
   "id": "c50d6ccf-65aa-4454-9461-57b96bb02b38",
   "metadata": {},
   "source": [
    "#### 2 images, different band"
   ]
  },
  {
   "cell_type": "code",
   "execution_count": 12,
   "id": "88ceb413-7d81-4325-bac2-3148b7c7f4ac",
   "metadata": {},
   "outputs": [],
   "source": [
    "blk = BaseRunner.OutImage(image, psf, wcs, pix_scale, band)\n",
    "blk2 = BaseRunner.OutImage(image, psf, wcs, pix_scale, band = 'J129')"
   ]
  },
  {
   "cell_type": "code",
   "execution_count": 13,
   "id": "bdafec7e-0af9-4a29-8e32-ca13c7156137",
   "metadata": {},
   "outputs": [],
   "source": [
    "bs_runner = BaseRunner.MetaDetectRunner([blk, blk2], meta_cfg = METADETECT_CONFIG, driver_cfg = DEFAULT_DRIVER_CFG)"
   ]
  },
  {
   "cell_type": "code",
   "execution_count": 17,
   "id": "aa320599-c7fa-43ae-82e9-9f525e70735a",
   "metadata": {},
   "outputs": [],
   "source": [
    "res = bs_runner.make_catalog(save = False, save_blocks = False)"
   ]
  },
  {
   "cell_type": "markdown",
   "id": "aaca8d8d-41b4-4e08-87e1-6d559a272d08",
   "metadata": {},
   "source": [
    "#### Multiple images, single band"
   ]
  },
  {
   "cell_type": "code",
   "execution_count": 14,
   "id": "835229af-d9bc-4d15-a12b-f400367d421e",
   "metadata": {},
   "outputs": [],
   "source": [
    "mos = BaseRunner.Mosaic([blk, blk])\n",
    "bs_runner = BaseRunner.MetaDetectRunner(mos, meta_cfg = METADETECT_CONFIG, driver_cfg = DEFAULT_DRIVER_CFG)"
   ]
  },
  {
   "cell_type": "code",
   "execution_count": 15,
   "id": "03b19cef-fa8e-48a1-974f-95c83d211107",
   "metadata": {},
   "outputs": [],
   "source": [
    "res = bs_runner.make_catalog(save = False, save_blocks = False)"
   ]
  },
  {
   "cell_type": "code",
   "execution_count": 30,
   "id": "7ad265db-f7a0-4766-840f-a0d23d7b210b",
   "metadata": {},
   "outputs": [],
   "source": [
    "#res"
   ]
  },
  {
   "cell_type": "markdown",
   "id": "2a7d04f1-2295-4319-adb9-89325ec87a5f",
   "metadata": {},
   "source": [
    "#### Multiple images, multiple bands"
   ]
  },
  {
   "cell_type": "code",
   "execution_count": 20,
   "id": "99e643bd-f56e-481b-9eea-cf9c081023e3",
   "metadata": {},
   "outputs": [],
   "source": [
    "mos = BaseRunner.Mosaic([blk, blk])\n",
    "mos2 = BaseRunner.Mosaic([blk2, blk2])\n",
    "bs_runner = BaseRunner.MetaDetectRunner([mos, mos2], meta_cfg = METADETECT_CONFIG, driver_cfg = DEFAULT_DRIVER_CFG)"
   ]
  },
  {
   "cell_type": "code",
   "execution_count": 25,
   "id": "905c9019-a716-4e62-8989-61236fa19ee3",
   "metadata": {},
   "outputs": [],
   "source": [
    "res = bs_runner.make_catalog(block_ids = [0,1], save = False, save_blocks = False)"
   ]
  },
  {
   "cell_type": "code",
   "execution_count": 31,
   "id": "85ac8a6e-a1b7-485d-9eea-6fc7b2c733cf",
   "metadata": {},
   "outputs": [],
   "source": [
    "#res"
   ]
  },
  {
   "cell_type": "code",
   "execution_count": null,
   "id": "7b5bef9d-cf3c-4429-8657-deece592aa9b",
   "metadata": {},
   "outputs": [],
   "source": []
  }
 ],
 "metadata": {
  "kernelspec": {
   "display_name": "Python 3 (ipykernel)",
   "language": "python",
   "name": "python3"
  },
  "language_info": {
   "codemirror_mode": {
    "name": "ipython",
    "version": 3
   },
   "file_extension": ".py",
   "mimetype": "text/x-python",
   "name": "python",
   "nbconvert_exporter": "python",
   "pygments_lexer": "ipython3",
   "version": "3.13.5"
  }
 },
 "nbformat": 4,
 "nbformat_minor": 5
}
