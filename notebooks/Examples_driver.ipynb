{
 "cells": [
  {
   "cell_type": "code",
   "execution_count": 1,
   "id": "9cf01118-6ade-4823-b041-e3f76d28d0c4",
   "metadata": {},
   "outputs": [],
   "source": [
    "import sys\n",
    "import numpy as np\n",
    "import pyarrow.parquet as pq\n",
    "import matplotlib.pyplot as plt\n",
    "import yaml\n",
    "from pathlib import Path\n",
    "import matplotlib as mpl"
   ]
  },
  {
   "cell_type": "code",
   "execution_count": 2,
   "id": "a17b0192-1fa7-4a60-b279-3ed34bad5748",
   "metadata": {},
   "outputs": [],
   "source": [
    "from pyimcom.config import Config, Settings as Stn\n",
    "from pyimcom.coadd import Block\n",
    "from pyimcom.analysis import OutImage, Mosaic\n",
    "from concurrent.futures import ProcessPoolExecutor"
   ]
  },
  {
   "cell_type": "code",
   "execution_count": 3,
   "id": "a54b697c-e8e8-441d-b83d-62452641a3c6",
   "metadata": {},
   "outputs": [],
   "source": [
    "from metadetect_driver import parse_driver_cfg, MetaDetectRunner"
   ]
  },
  {
   "cell_type": "markdown",
   "id": "3ab569d1-7b54-48b6-8a86-957c7411f277",
   "metadata": {},
   "source": [
    "# Example Uses"
   ]
  },
  {
   "cell_type": "markdown",
   "id": "8df63e64-e57a-4d5d-8613-a32459067330",
   "metadata": {},
   "source": [
    "#### We will run some examples of running this metadetect Driver using a 2x2 block mosaic produced by PyIMCOM"
   ]
  },
  {
   "cell_type": "markdown",
   "id": "b4ad65ef-3683-4e9d-ac06-18d8b5ba0f5e",
   "metadata": {},
   "source": [
    "## Single Band"
   ]
  },
  {
   "cell_type": "code",
   "execution_count": 4,
   "id": "c43e8a25-0fa7-42dd-ba28-346fe9b31b86",
   "metadata": {},
   "outputs": [],
   "source": [
    "with open('../config/metadetect_default.yaml', 'r') as file:\n",
    "    METADETECT_CONFIG= yaml.safe_load(file)\n",
    "with open('../config/driver_default.yaml', 'r') as file:\n",
    "    DEFAULT_DRIVER_CFG= yaml.safe_load(file)"
   ]
  },
  {
   "cell_type": "markdown",
   "id": "abcee454-120a-41ce-9aea-42339497f743",
   "metadata": {},
   "source": [
    "### Quick explanation of the configuration files read above\n",
    "\n",
    "1. `METADETECT_CONFIG`: This is the configuration file that goes into Metadetect. For general info about how metadetect works, see the metadetect tutorial: https://github.com/Roman-HLIS-Cosmology-PIT/tutorial-metadetect/tree/main\n",
    "2. `DEFAULT_DRIVER_CFG`: This is the configuration file for the driver we have made here. The arguments are the following:\n",
    " \n",
    "    - `psf_img_size`: Size of the PSF image to make. The PSF is made inside the driver from the PyIMCOM configuration.\n",
    "    - `bound_size`: Sets the maximum number of pixels from the edge for which we mask objects. Example, if bound_size = 100, all detections                   that are 100 pixels from the edge of the image are discarded from the catalog.\n",
    "    - `mdet_seed`: Random seed that goes into Metadetect\n",
    "    - `keepcols`: What columns from the Metadetect outputs to keep. Given as a list\n",
    "    - `det_bands`: What bands to use for detection. The default is to use all bands given.\n",
    "    - `shear_bands`: What bands to use for shape measurement. The default is to use all bands given.\n",
    "    - `layer`: What layer from the coadds to use (as a string). The default is the science layer ('SCI')\n",
    "    - `max_workers`: Maximum number of workers for parallelization of multiple block. Driver code allows to parallelize if multiple blocks                     need to be processed. See https://docs.python.org/3/library/concurrent.futures.html for more details.\n",
    "    - `chunksize`: Chunksize for the parallelization. See https://docs.python.org/3/library/concurrent.futures.html for more details.\n",
    "    - `outdir`: The output directory to ave catalogs if you want them saved. "
   ]
  },
  {
   "cell_type": "code",
   "execution_count": 5,
   "id": "3bbe613f-53f3-4c8a-ac10-8c752b42ce8b",
   "metadata": {},
   "outputs": [],
   "source": [
    "# Read the config file from which the Mosaic was made\n",
    "cfg = Config(cfg_file = '../IMCOM_data/configs/config_prod_H.json')"
   ]
  },
  {
   "cell_type": "code",
   "execution_count": 6,
   "id": "f0e43aa7-d235-4f23-b390-41308ee989e8",
   "metadata": {},
   "outputs": [],
   "source": [
    "# The actual data was run somewhere else, so we have to change the config file directory where the images live\n",
    "cfg.outstem = '../IMCOM_data/images/H158/output'"
   ]
  },
  {
   "cell_type": "code",
   "execution_count": 7,
   "id": "4883f267-8f00-4e7d-aa8c-71e77753d3d8",
   "metadata": {},
   "outputs": [],
   "source": [
    "# Get the full Mosaic from PyIMCOM interface (no images are actually loaded when doing this)\n",
    "mosaic = Mosaic(cfg)"
   ]
  },
  {
   "cell_type": "markdown",
   "id": "b656467e-720c-4082-81c3-c3508ea54688",
   "metadata": {},
   "source": [
    "### Single Block"
   ]
  },
  {
   "cell_type": "code",
   "execution_count": 8,
   "id": "6a5dab07-576b-42b2-ae6b-f4a0762bee5a",
   "metadata": {},
   "outputs": [],
   "source": [
    "# select a single block in the mosaic\n",
    "blk = mosaic.outimages[0][1]"
   ]
  },
  {
   "cell_type": "code",
   "execution_count": 9,
   "id": "f0d71463-85c2-4543-b972-f531f822b9d7",
   "metadata": {},
   "outputs": [
    {
     "data": {
      "image/png": "[encoded data removed]",
      "text/plain": [
       "<Figure size 600x400 with 2 Axes>"
      ]
     },
     "metadata": {},
     "output_type": "display_data"
    }
   ],
   "source": [
    "# Visualize Block\n",
    "img = blk.get_coadded_layer('SCI')\n",
    "\n",
    "norm = mpl.colors.Normalize()\n",
    "cmap = 'gray'\n",
    "\n",
    "fig, axs = plt.subplots(1, 1)\n",
    "\n",
    "axs.imshow(img, norm=norm, cmap=cmap, origin='lower')\n",
    "#axs.set_ylim(0,600)\n",
    "#axs.set_xlim(30,100)\n",
    "fig.colorbar(mpl.cm.ScalarMappable(norm, cmap), ax=axs)\n",
    "axs.set_title(\"Coadded SCI Image: Single Block\")\n",
    "\n",
    "plt.show()"
   ]
  },
  {
   "cell_type": "code",
   "execution_count": 10,
   "id": "6eb35ad4-3172-40f1-a041-67f18024e7f4",
   "metadata": {},
   "outputs": [],
   "source": [
    "# Initialize object with block\n",
    "mdet_runner = MetaDetectRunner(blk, meta_cfg = METADETECT_CONFIG, driver_cfg = DEFAULT_DRIVER_CFG)"
   ]
  },
  {
   "cell_type": "code",
   "execution_count": 11,
   "id": "e197e757-5a6e-4968-af09-e0e48f4dc26c",
   "metadata": {},
   "outputs": [],
   "source": [
    "#### Run metadetect to get shape catalogs"
   ]
  },
  {
   "cell_type": "code",
   "execution_count": 12,
   "id": "6124b419-e688-40fe-b746-902a6c74cd46",
   "metadata": {},
   "outputs": [],
   "source": [
    "catalogs, block_indices = mdet_runner.make_catalogs()"
   ]
  },
  {
   "cell_type": "markdown",
   "id": "7bea9eff-9b1d-4512-84a8-823300de2392",
   "metadata": {},
   "source": [
    "#### Saving outputs to disk\n",
    "\n",
    "This will write the catalogs for each block to disk (as well as appending metadata to the table schema)"
   ]
  },
  {
   "cell_type": "code",
   "execution_count": 13,
   "id": "f1943fab-7961-4dd7-acdb-a2013a6fe671",
   "metadata": {},
   "outputs": [],
   "source": [
    "# Run the metadetect driver on a single\n",
    "output_dir = Path('output')\n",
    "mdet_runner.write_catalogs(output_dir, catalogs, block_indices, save_blocks=True)"
   ]
  },
  {
   "cell_type": "code",
   "execution_count": 14,
   "id": "3b3642c2-f85c-4946-89a3-553c45c2abcd",
   "metadata": {},
   "outputs": [
    {
     "name": "stdout",
     "output_type": "stream",
     "text": [
      "output ['blocks'] ['metadetect_catalog.parquet']\n",
      "output/blocks ['0'] []\n",
      "output/blocks/0 [] ['metadetect_catalog_00_00.parquet']\n"
     ]
    }
   ],
   "source": [
    "for (dirpath, dirnames, filenames) in output_dir.walk():\n",
    "    print(dirpath, dirnames, filenames)"
   ]
  },
  {
   "cell_type": "code",
   "execution_count": 15,
   "id": "a589a835-c100-4b69-afc5-61ddc964bca2",
   "metadata": {},
   "outputs": [
    {
     "name": "stdout",
     "output_type": "stream",
     "text": [
      "output/metadetect_catalog.parquet\n",
      "output/blocks\n",
      "output/blocks/0\n",
      "output/blocks/0/metadetect_catalog_00_00.parquet\n"
     ]
    }
   ],
   "source": [
    "for (dirpath, dirnames, filenames) in output_dir.walk():\n",
    "    for filename in filenames:\n",
    "        print(dirpath / filename)\n",
    "    for dirname in dirnames:\n",
    "        print(dirpath / dirname)"
   ]
  },
  {
   "cell_type": "code",
   "execution_count": 16,
   "id": "61c7e9db-4c0f-45e3-b8fb-9aa7b93841e8",
   "metadata": {},
   "outputs": [],
   "source": [
    "res = pq.read_table(output_dir / \"metadetect_catalog.parquet\")"
   ]
  },
  {
   "cell_type": "code",
   "execution_count": 17,
   "id": "291e1a76-db51-41fb-ac7a-d409afe15d9b",
   "metadata": {},
   "outputs": [
    {
     "data": {
      "text/plain": [
       "{b'package': b'metadetect_driver',\n",
       " b'version': b'0.1',\n",
       " b'galsim_version': b'2.7.2',\n",
       " b'metadetect_version': b'0.12.0',\n",
       " b'ngmix_version': b'2.4.0',\n",
       " b'pyimcom_version': b'1.0.4.dev190+ge6cf79c26'}"
      ]
     },
     "execution_count": 17,
     "metadata": {},
     "output_type": "execute_result"
    }
   ],
   "source": [
    "res.schema.metadata"
   ]
  },
  {
   "cell_type": "markdown",
   "id": "d74199f8-f48f-4301-8dc9-a7a432454392",
   "metadata": {},
   "source": [
    "This may seem like few objects, but in the default settings we are removing all objects 100 pixels from the edge. You can change this by changing `bound_size` in the driver config."
   ]
  },
  {
   "cell_type": "markdown",
   "id": "ab4508e8-0b51-4955-8bf0-c6fdf265800e",
   "metadata": {},
   "source": [
    "### Mosaic"
   ]
  },
  {
   "cell_type": "code",
   "execution_count": 18,
   "id": "6732f074-5d93-49ff-a654-ea107a291cff",
   "metadata": {},
   "outputs": [],
   "source": [
    "# Initialize object with mosaic\n",
    "mdet_runner = MetaDetectRunner(mosaic, meta_cfg = METADETECT_CONFIG, driver_cfg = DEFAULT_DRIVER_CFG)"
   ]
  },
  {
   "cell_type": "code",
   "execution_count": 19,
   "id": "7399dcdc-3d12-4a11-a29c-d0c23a4afa7c",
   "metadata": {},
   "outputs": [],
   "source": [
    "# Run the metadetect driver on a mosaic (by default runs all blocks in mosaic)\n",
    "catalogs, block_indices = mdet_runner.make_catalogs()"
   ]
  },
  {
   "cell_type": "markdown",
   "id": "57058c2e-98c5-4eb1-9a0e-26a40e750ddf",
   "metadata": {},
   "source": [
    "#### You can also run individual blocks within a mosaic\n",
    "\n",
    "To do this there are two options:\n",
    "1. Pass arguments `block_rows` and `block_cols`, representing the blocks you want to run. For example passing `block_rows = 1, block_cols = 0`, means only this particular Block in the Mosaic will be processed. Alternatively you can pass a list for each one: `block_rows = [1, 0], block_cols = [0,1]`, which will run those two blocks only.\n",
    "2. Pass argument `block_ids`, representing a single number ID in the Mosaic. If a Mosaic has 8 blocks on each side (nblocks = 8, 8x8 = 64 total blocks), then there is a number ID for each block. Since the indexing starts at zero, `block_ids` should be an integer (or list of integers) between [0 , nblocks^2 -1].\n",
    "\n",
    "Only one of these two options should be passed."
   ]
  },
  {
   "cell_type": "code",
   "execution_count": 20,
   "id": "3a418d76-a7dd-4bc5-8e21-5c9c793d0bfb",
   "metadata": {},
   "outputs": [],
   "source": [
    "# This only runs on block 0_1 inside the Mosaic (in PyIMCOM convention the row is the 2nd digit and column the first)\n",
    "res, block_indices = mdet_runner.make_catalogs(block_rows = 1, block_cols = 0)"
   ]
  },
  {
   "cell_type": "code",
   "execution_count": 21,
   "id": "32add6e6-bdaf-49ac-9419-fb1ba29e7bd7",
   "metadata": {},
   "outputs": [
    {
     "name": "stdout",
     "output_type": "stream",
     "text": [
      "1 ([1], [0])\n"
     ]
    }
   ],
   "source": [
    "print(len(res), block_indices)"
   ]
  },
  {
   "cell_type": "code",
   "execution_count": 22,
   "id": "242ca83c-5bff-4d5c-99a5-379e0e52b398",
   "metadata": {},
   "outputs": [],
   "source": [
    "# This only runs on block 0_1 inside the Mosaic (in PyIMCOM convention the row is the 2nd digit and column the first)\n",
    "res, block_indices = mdet_runner.make_catalogs(block_ids = 1)"
   ]
  },
  {
   "cell_type": "code",
   "execution_count": 23,
   "id": "d75be38b-b701-4386-bf06-b8c62a584515",
   "metadata": {},
   "outputs": [
    {
     "name": "stdout",
     "output_type": "stream",
     "text": [
      "1 ([1], [0])\n"
     ]
    }
   ],
   "source": [
    "print(len(res), block_indices)"
   ]
  },
  {
   "cell_type": "markdown",
   "id": "f6220423-e3e9-48cd-95ba-07eb291f39c1",
   "metadata": {},
   "source": [
    "#### Or for entire rows (or columns) in a Mosaic:\n",
    "By specifying only one of block_rows and block_cols, it runs detection on all blocks in the specified rows/cols.\n",
    "So for example setting block_rows = [1,2] runs detection on all blocks in rows 1 and 2. Similarly for block_cols."
   ]
  },
  {
   "cell_type": "code",
   "execution_count": 24,
   "id": "b94f881b-c710-46d8-9e8f-8aa9560d8d3f",
   "metadata": {},
   "outputs": [],
   "source": [
    "# This only runs on block 0_1 inside the Mosaic (in PyIMCOM convention the row is the 2nd digit and column the first)\n",
    "res, block_indices = mdet_runner.make_catalogs(block_rows = [1])"
   ]
  },
  {
   "cell_type": "code",
   "execution_count": 25,
   "id": "22a7d6e8-bd70-4d10-bab1-043348bd69dc",
   "metadata": {},
   "outputs": [
    {
     "name": "stdout",
     "output_type": "stream",
     "text": [
      "2 ([1], None)\n"
     ]
    }
   ],
   "source": [
    "print(len(res), block_indices)"
   ]
  },
  {
   "cell_type": "markdown",
   "id": "eedf0ad8-a962-46d7-9bd7-7438c237a15c",
   "metadata": {},
   "source": [
    "## Multi-band"
   ]
  },
  {
   "cell_type": "code",
   "execution_count": 26,
   "id": "96d2d593-d171-453a-88f2-32cba17e352c",
   "metadata": {},
   "outputs": [],
   "source": [
    "# Read the config file for both bands\n",
    "cfg_H = Config(cfg_file = '../IMCOM_data/configs/config_prod_H.json')\n",
    "cfg_J = Config(cfg_file = '../IMCOM_data/configs/config_prod_J.json')"
   ]
  },
  {
   "cell_type": "code",
   "execution_count": 27,
   "id": "14bf3773-305b-4fac-b440-26b8708848ca",
   "metadata": {},
   "outputs": [],
   "source": [
    "cfg_H.outstem = '../IMCOM_data/images/H158/output'\n",
    "cfg_J.outstem = '../IMCOM_data/images/J129/output'"
   ]
  },
  {
   "cell_type": "code",
   "execution_count": 28,
   "id": "062ea279-d6ef-4b2b-af24-edd95747f9b0",
   "metadata": {},
   "outputs": [],
   "source": [
    "mosaic_H = Mosaic(cfg_H)\n",
    "mosaic_J= Mosaic(cfg_J)\n",
    "mosaics = [mosaic_H, mosaic_J]"
   ]
  },
  {
   "cell_type": "markdown",
   "id": "d18b709b-a668-42a9-94ec-1faebc2cc492",
   "metadata": {},
   "source": [
    "### Single Block"
   ]
  },
  {
   "cell_type": "code",
   "execution_count": 29,
   "id": "c085b171-bf5a-4b2f-b7f1-1a49b6ba7e2e",
   "metadata": {},
   "outputs": [],
   "source": [
    "# select a single block in the mosaic\n",
    "blks = [mosaic.outimages[0][1] for mosaic in mosaics]"
   ]
  },
  {
   "cell_type": "code",
   "execution_count": 30,
   "id": "83fcd281-8b8e-4371-8dbf-ca394e003102",
   "metadata": {},
   "outputs": [],
   "source": [
    "# Initialize object with block\n",
    "mdet_runner = MetaDetectRunner(blks, meta_cfg = METADETECT_CONFIG, driver_cfg = DEFAULT_DRIVER_CFG)"
   ]
  },
  {
   "cell_type": "code",
   "execution_count": 31,
   "id": "9e0d6c8c-b632-4b27-b282-0cd9d03e33ab",
   "metadata": {},
   "outputs": [],
   "source": [
    "# Run the metadetect driver on a single\n",
    "res, block_indices = mdet_runner.make_catalogs()"
   ]
  },
  {
   "cell_type": "code",
   "execution_count": 32,
   "id": "6290be5c-4a17-4e97-a435-4478ba972eab",
   "metadata": {},
   "outputs": [
    {
     "name": "stdout",
     "output_type": "stream",
     "text": [
      "1 (None, None)\n"
     ]
    }
   ],
   "source": [
    "print(len(res), block_indices)"
   ]
  },
  {
   "cell_type": "markdown",
   "id": "dc7a68a2-0112-4fcf-ac7a-5353d9e05059",
   "metadata": {},
   "source": [
    "You may have noticed we have more objects detected. This is because Metadetect creates a multi-band coadd for detection, so we can find more objects!"
   ]
  },
  {
   "cell_type": "markdown",
   "id": "e646c29f-9e27-4145-afea-58daaede5fd2",
   "metadata": {},
   "source": [
    "### Mosaic"
   ]
  },
  {
   "cell_type": "code",
   "execution_count": 33,
   "id": "35093897-35d8-4cd3-8ebd-c233f722964c",
   "metadata": {},
   "outputs": [],
   "source": [
    "# Initialize object with mosaic\n",
    "mdet_runner = MetaDetectRunner(mosaics, meta_cfg = METADETECT_CONFIG, driver_cfg = DEFAULT_DRIVER_CFG)"
   ]
  },
  {
   "cell_type": "code",
   "execution_count": 34,
   "id": "16c7a160-124e-42c3-a623-5f0bd9bd98ec",
   "metadata": {},
   "outputs": [],
   "source": [
    "# Run the metadetect driver on a mosaic (by default runs all blocks in mosaic)\n",
    "res, block_indices = mdet_runner.make_catalogs()"
   ]
  },
  {
   "cell_type": "code",
   "execution_count": 35,
   "id": "324a21b9-9ced-44e2-bacd-07f36a7d0873",
   "metadata": {},
   "outputs": [
    {
     "name": "stdout",
     "output_type": "stream",
     "text": [
      "4 (None, None)\n"
     ]
    }
   ],
   "source": [
    "print(len(res), block_indices)"
   ]
  },
  {
   "cell_type": "code",
   "execution_count": null,
   "id": "f08f463e-f0a0-41a4-997f-22358c5ce1ca",
   "metadata": {},
   "outputs": [],
   "source": []
  }
 ],
 "metadata": {
  "kernelspec": {
   "display_name": "Python 3 (ipykernel)",
   "language": "python",
   "name": "python3"
  },
  "language_info": {
   "codemirror_mode": {
    "name": "ipython",
    "version": 3
   },
   "file_extension": ".py",
   "mimetype": "text/x-python",
   "name": "python",
   "nbconvert_exporter": "python",
   "pygments_lexer": "ipython3",
   "version": "3.13.7"
  }
 },
 "nbformat": 4,
 "nbformat_minor": 5
}
